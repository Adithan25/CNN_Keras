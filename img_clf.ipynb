{
 "cells": [
  {
   "cell_type": "markdown",
   "metadata": {},
   "source": [
    "# Using Convolutional Neural Networks to Classify Images"
   ]
  },
  {
   "cell_type": "markdown",
   "metadata": {},
   "source": [
    "I demonstrate an example on how convolutional neural networks (CNNs) in Keras can be used to classify images.\n",
    "The <a href=\"https://www.kaggle.com/datasets/datamunge/sign-language-mnist\"> image data</a> here are hand gestures of letters of the alphabet in the American Sign Language.\n",
    "\n",
    "First load all required modules, the train and test data.\n",
    "<br>\n",
    "<br>"
   ]
  },
  {
   "cell_type": "code",
   "execution_count": 1,
   "metadata": {},
   "outputs": [],
   "source": [
    "import numpy as np \n",
    "import pandas as pd\n",
    "import matplotlib.pyplot as plt\n",
    "import seaborn as sns\n",
    "from tensorflow.keras.models import Sequential\n",
    "from keras.layers import Dense, Conv2D , MaxPool2D , Flatten , Dropout , BatchNormalization\n",
    "from keras.callbacks import ModelCheckpoint,ReduceLROnPlateau  \n",
    "from sklearn.metrics import classification_report\n",
    "from sklearn.preprocessing import LabelBinarizer"
   ]
  },
  {
   "cell_type": "code",
   "execution_count": 9,
   "metadata": {},
   "outputs": [],
   "source": [
    "df=pd.read_csv('sign_mnist_train/sign_mnist_train.csv', dtype='int')\n",
    "df_test=pd.read_csv('sign_mnist_test/sign_mnist_test.csv', dtype='int')"
   ]
  },
  {
   "cell_type": "code",
   "execution_count": 5,
   "metadata": {},
   "outputs": [
    {
     "data": {
      "text/html": [
       "<div>\n",
       "<style scoped>\n",
       "    .dataframe tbody tr th:only-of-type {\n",
       "        vertical-align: middle;\n",
       "    }\n",
       "\n",
       "    .dataframe tbody tr th {\n",
       "        vertical-align: top;\n",
       "    }\n",
       "\n",
       "    .dataframe thead th {\n",
       "        text-align: right;\n",
       "    }\n",
       "</style>\n",
       "<table border=\"1\" class=\"dataframe\">\n",
       "  <thead>\n",
       "    <tr style=\"text-align: right;\">\n",
       "      <th></th>\n",
       "      <th>label</th>\n",
       "      <th>pixel1</th>\n",
       "      <th>pixel2</th>\n",
       "      <th>pixel3</th>\n",
       "      <th>pixel4</th>\n",
       "      <th>pixel5</th>\n",
       "      <th>pixel6</th>\n",
       "      <th>pixel7</th>\n",
       "      <th>pixel8</th>\n",
       "      <th>pixel9</th>\n",
       "      <th>...</th>\n",
       "      <th>pixel775</th>\n",
       "      <th>pixel776</th>\n",
       "      <th>pixel777</th>\n",
       "      <th>pixel778</th>\n",
       "      <th>pixel779</th>\n",
       "      <th>pixel780</th>\n",
       "      <th>pixel781</th>\n",
       "      <th>pixel782</th>\n",
       "      <th>pixel783</th>\n",
       "      <th>pixel784</th>\n",
       "    </tr>\n",
       "  </thead>\n",
       "  <tbody>\n",
       "    <tr>\n",
       "      <th>0</th>\n",
       "      <td>3</td>\n",
       "      <td>107</td>\n",
       "      <td>118</td>\n",
       "      <td>127</td>\n",
       "      <td>134</td>\n",
       "      <td>139</td>\n",
       "      <td>143</td>\n",
       "      <td>146</td>\n",
       "      <td>150</td>\n",
       "      <td>153</td>\n",
       "      <td>...</td>\n",
       "      <td>207</td>\n",
       "      <td>207</td>\n",
       "      <td>207</td>\n",
       "      <td>207</td>\n",
       "      <td>206</td>\n",
       "      <td>206</td>\n",
       "      <td>206</td>\n",
       "      <td>204</td>\n",
       "      <td>203</td>\n",
       "      <td>202</td>\n",
       "    </tr>\n",
       "    <tr>\n",
       "      <th>1</th>\n",
       "      <td>6</td>\n",
       "      <td>155</td>\n",
       "      <td>157</td>\n",
       "      <td>156</td>\n",
       "      <td>156</td>\n",
       "      <td>156</td>\n",
       "      <td>157</td>\n",
       "      <td>156</td>\n",
       "      <td>158</td>\n",
       "      <td>158</td>\n",
       "      <td>...</td>\n",
       "      <td>69</td>\n",
       "      <td>149</td>\n",
       "      <td>128</td>\n",
       "      <td>87</td>\n",
       "      <td>94</td>\n",
       "      <td>163</td>\n",
       "      <td>175</td>\n",
       "      <td>103</td>\n",
       "      <td>135</td>\n",
       "      <td>149</td>\n",
       "    </tr>\n",
       "    <tr>\n",
       "      <th>2</th>\n",
       "      <td>2</td>\n",
       "      <td>187</td>\n",
       "      <td>188</td>\n",
       "      <td>188</td>\n",
       "      <td>187</td>\n",
       "      <td>187</td>\n",
       "      <td>186</td>\n",
       "      <td>187</td>\n",
       "      <td>188</td>\n",
       "      <td>187</td>\n",
       "      <td>...</td>\n",
       "      <td>202</td>\n",
       "      <td>201</td>\n",
       "      <td>200</td>\n",
       "      <td>199</td>\n",
       "      <td>198</td>\n",
       "      <td>199</td>\n",
       "      <td>198</td>\n",
       "      <td>195</td>\n",
       "      <td>194</td>\n",
       "      <td>195</td>\n",
       "    </tr>\n",
       "    <tr>\n",
       "      <th>3</th>\n",
       "      <td>2</td>\n",
       "      <td>211</td>\n",
       "      <td>211</td>\n",
       "      <td>212</td>\n",
       "      <td>212</td>\n",
       "      <td>211</td>\n",
       "      <td>210</td>\n",
       "      <td>211</td>\n",
       "      <td>210</td>\n",
       "      <td>210</td>\n",
       "      <td>...</td>\n",
       "      <td>235</td>\n",
       "      <td>234</td>\n",
       "      <td>233</td>\n",
       "      <td>231</td>\n",
       "      <td>230</td>\n",
       "      <td>226</td>\n",
       "      <td>225</td>\n",
       "      <td>222</td>\n",
       "      <td>229</td>\n",
       "      <td>163</td>\n",
       "    </tr>\n",
       "    <tr>\n",
       "      <th>4</th>\n",
       "      <td>13</td>\n",
       "      <td>164</td>\n",
       "      <td>167</td>\n",
       "      <td>170</td>\n",
       "      <td>172</td>\n",
       "      <td>176</td>\n",
       "      <td>179</td>\n",
       "      <td>180</td>\n",
       "      <td>184</td>\n",
       "      <td>185</td>\n",
       "      <td>...</td>\n",
       "      <td>92</td>\n",
       "      <td>105</td>\n",
       "      <td>105</td>\n",
       "      <td>108</td>\n",
       "      <td>133</td>\n",
       "      <td>163</td>\n",
       "      <td>157</td>\n",
       "      <td>163</td>\n",
       "      <td>164</td>\n",
       "      <td>179</td>\n",
       "    </tr>\n",
       "  </tbody>\n",
       "</table>\n",
       "<p>5 rows × 785 columns</p>\n",
       "</div>"
      ],
      "text/plain": [
       "   label  pixel1  pixel2  pixel3  pixel4  pixel5  pixel6  pixel7  pixel8  \\\n",
       "0      3     107     118     127     134     139     143     146     150   \n",
       "1      6     155     157     156     156     156     157     156     158   \n",
       "2      2     187     188     188     187     187     186     187     188   \n",
       "3      2     211     211     212     212     211     210     211     210   \n",
       "4     13     164     167     170     172     176     179     180     184   \n",
       "\n",
       "   pixel9  ...  pixel775  pixel776  pixel777  pixel778  pixel779  pixel780  \\\n",
       "0     153  ...       207       207       207       207       206       206   \n",
       "1     158  ...        69       149       128        87        94       163   \n",
       "2     187  ...       202       201       200       199       198       199   \n",
       "3     210  ...       235       234       233       231       230       226   \n",
       "4     185  ...        92       105       105       108       133       163   \n",
       "\n",
       "   pixel781  pixel782  pixel783  pixel784  \n",
       "0       206       204       203       202  \n",
       "1       175       103       135       149  \n",
       "2       198       195       194       195  \n",
       "3       225       222       229       163  \n",
       "4       157       163       164       179  \n",
       "\n",
       "[5 rows x 785 columns]"
      ]
     },
     "execution_count": 5,
     "metadata": {},
     "output_type": "execute_result"
    }
   ],
   "source": [
    "df.head()"
   ]
  },
  {
   "cell_type": "code",
   "execution_count": 6,
   "metadata": {
    "scrolled": true
   },
   "outputs": [
    {
     "data": {
      "text/html": [
       "<div>\n",
       "<style scoped>\n",
       "    .dataframe tbody tr th:only-of-type {\n",
       "        vertical-align: middle;\n",
       "    }\n",
       "\n",
       "    .dataframe tbody tr th {\n",
       "        vertical-align: top;\n",
       "    }\n",
       "\n",
       "    .dataframe thead th {\n",
       "        text-align: right;\n",
       "    }\n",
       "</style>\n",
       "<table border=\"1\" class=\"dataframe\">\n",
       "  <thead>\n",
       "    <tr style=\"text-align: right;\">\n",
       "      <th></th>\n",
       "      <th>label</th>\n",
       "      <th>pixel1</th>\n",
       "      <th>pixel2</th>\n",
       "      <th>pixel3</th>\n",
       "      <th>pixel4</th>\n",
       "      <th>pixel5</th>\n",
       "      <th>pixel6</th>\n",
       "      <th>pixel7</th>\n",
       "      <th>pixel8</th>\n",
       "      <th>pixel9</th>\n",
       "      <th>...</th>\n",
       "      <th>pixel775</th>\n",
       "      <th>pixel776</th>\n",
       "      <th>pixel777</th>\n",
       "      <th>pixel778</th>\n",
       "      <th>pixel779</th>\n",
       "      <th>pixel780</th>\n",
       "      <th>pixel781</th>\n",
       "      <th>pixel782</th>\n",
       "      <th>pixel783</th>\n",
       "      <th>pixel784</th>\n",
       "    </tr>\n",
       "  </thead>\n",
       "  <tbody>\n",
       "    <tr>\n",
       "      <th>count</th>\n",
       "      <td>27455.000000</td>\n",
       "      <td>27455.000000</td>\n",
       "      <td>27455.000000</td>\n",
       "      <td>27455.000000</td>\n",
       "      <td>27455.000000</td>\n",
       "      <td>27455.000000</td>\n",
       "      <td>27455.000000</td>\n",
       "      <td>27455.000000</td>\n",
       "      <td>27455.000000</td>\n",
       "      <td>27455.000000</td>\n",
       "      <td>...</td>\n",
       "      <td>27455.000000</td>\n",
       "      <td>27455.000000</td>\n",
       "      <td>27455.000000</td>\n",
       "      <td>27455.000000</td>\n",
       "      <td>27455.000000</td>\n",
       "      <td>27455.000000</td>\n",
       "      <td>27455.000000</td>\n",
       "      <td>27455.000000</td>\n",
       "      <td>27455.000000</td>\n",
       "      <td>27455.000000</td>\n",
       "    </tr>\n",
       "    <tr>\n",
       "      <th>mean</th>\n",
       "      <td>12.318813</td>\n",
       "      <td>145.419377</td>\n",
       "      <td>148.500273</td>\n",
       "      <td>151.247714</td>\n",
       "      <td>153.546531</td>\n",
       "      <td>156.210891</td>\n",
       "      <td>158.411255</td>\n",
       "      <td>160.472154</td>\n",
       "      <td>162.339683</td>\n",
       "      <td>163.954799</td>\n",
       "      <td>...</td>\n",
       "      <td>141.104863</td>\n",
       "      <td>147.495611</td>\n",
       "      <td>153.325806</td>\n",
       "      <td>159.125332</td>\n",
       "      <td>161.969259</td>\n",
       "      <td>162.736696</td>\n",
       "      <td>162.906137</td>\n",
       "      <td>161.966454</td>\n",
       "      <td>161.137898</td>\n",
       "      <td>159.824731</td>\n",
       "    </tr>\n",
       "    <tr>\n",
       "      <th>std</th>\n",
       "      <td>7.287552</td>\n",
       "      <td>41.358555</td>\n",
       "      <td>39.942152</td>\n",
       "      <td>39.056286</td>\n",
       "      <td>38.595247</td>\n",
       "      <td>37.111165</td>\n",
       "      <td>36.125579</td>\n",
       "      <td>35.016392</td>\n",
       "      <td>33.661998</td>\n",
       "      <td>32.651607</td>\n",
       "      <td>...</td>\n",
       "      <td>63.751194</td>\n",
       "      <td>65.512894</td>\n",
       "      <td>64.427412</td>\n",
       "      <td>63.708507</td>\n",
       "      <td>63.738316</td>\n",
       "      <td>63.444008</td>\n",
       "      <td>63.509210</td>\n",
       "      <td>63.298721</td>\n",
       "      <td>63.610415</td>\n",
       "      <td>64.396846</td>\n",
       "    </tr>\n",
       "    <tr>\n",
       "      <th>min</th>\n",
       "      <td>0.000000</td>\n",
       "      <td>0.000000</td>\n",
       "      <td>0.000000</td>\n",
       "      <td>0.000000</td>\n",
       "      <td>0.000000</td>\n",
       "      <td>0.000000</td>\n",
       "      <td>0.000000</td>\n",
       "      <td>0.000000</td>\n",
       "      <td>0.000000</td>\n",
       "      <td>0.000000</td>\n",
       "      <td>...</td>\n",
       "      <td>0.000000</td>\n",
       "      <td>0.000000</td>\n",
       "      <td>0.000000</td>\n",
       "      <td>0.000000</td>\n",
       "      <td>0.000000</td>\n",
       "      <td>0.000000</td>\n",
       "      <td>0.000000</td>\n",
       "      <td>0.000000</td>\n",
       "      <td>0.000000</td>\n",
       "      <td>0.000000</td>\n",
       "    </tr>\n",
       "    <tr>\n",
       "      <th>25%</th>\n",
       "      <td>6.000000</td>\n",
       "      <td>121.000000</td>\n",
       "      <td>126.000000</td>\n",
       "      <td>130.000000</td>\n",
       "      <td>133.000000</td>\n",
       "      <td>137.000000</td>\n",
       "      <td>140.000000</td>\n",
       "      <td>142.000000</td>\n",
       "      <td>144.000000</td>\n",
       "      <td>146.000000</td>\n",
       "      <td>...</td>\n",
       "      <td>92.000000</td>\n",
       "      <td>96.000000</td>\n",
       "      <td>103.000000</td>\n",
       "      <td>112.000000</td>\n",
       "      <td>120.000000</td>\n",
       "      <td>125.000000</td>\n",
       "      <td>128.000000</td>\n",
       "      <td>128.000000</td>\n",
       "      <td>128.000000</td>\n",
       "      <td>125.500000</td>\n",
       "    </tr>\n",
       "    <tr>\n",
       "      <th>50%</th>\n",
       "      <td>13.000000</td>\n",
       "      <td>150.000000</td>\n",
       "      <td>153.000000</td>\n",
       "      <td>156.000000</td>\n",
       "      <td>158.000000</td>\n",
       "      <td>160.000000</td>\n",
       "      <td>162.000000</td>\n",
       "      <td>164.000000</td>\n",
       "      <td>165.000000</td>\n",
       "      <td>166.000000</td>\n",
       "      <td>...</td>\n",
       "      <td>144.000000</td>\n",
       "      <td>162.000000</td>\n",
       "      <td>172.000000</td>\n",
       "      <td>180.000000</td>\n",
       "      <td>183.000000</td>\n",
       "      <td>184.000000</td>\n",
       "      <td>184.000000</td>\n",
       "      <td>182.000000</td>\n",
       "      <td>182.000000</td>\n",
       "      <td>182.000000</td>\n",
       "    </tr>\n",
       "    <tr>\n",
       "      <th>75%</th>\n",
       "      <td>19.000000</td>\n",
       "      <td>174.000000</td>\n",
       "      <td>176.000000</td>\n",
       "      <td>178.000000</td>\n",
       "      <td>179.000000</td>\n",
       "      <td>181.000000</td>\n",
       "      <td>182.000000</td>\n",
       "      <td>183.000000</td>\n",
       "      <td>184.000000</td>\n",
       "      <td>185.000000</td>\n",
       "      <td>...</td>\n",
       "      <td>196.000000</td>\n",
       "      <td>202.000000</td>\n",
       "      <td>205.000000</td>\n",
       "      <td>207.000000</td>\n",
       "      <td>208.000000</td>\n",
       "      <td>207.000000</td>\n",
       "      <td>207.000000</td>\n",
       "      <td>206.000000</td>\n",
       "      <td>204.000000</td>\n",
       "      <td>204.000000</td>\n",
       "    </tr>\n",
       "    <tr>\n",
       "      <th>max</th>\n",
       "      <td>24.000000</td>\n",
       "      <td>255.000000</td>\n",
       "      <td>255.000000</td>\n",
       "      <td>255.000000</td>\n",
       "      <td>255.000000</td>\n",
       "      <td>255.000000</td>\n",
       "      <td>255.000000</td>\n",
       "      <td>255.000000</td>\n",
       "      <td>255.000000</td>\n",
       "      <td>255.000000</td>\n",
       "      <td>...</td>\n",
       "      <td>255.000000</td>\n",
       "      <td>255.000000</td>\n",
       "      <td>255.000000</td>\n",
       "      <td>255.000000</td>\n",
       "      <td>255.000000</td>\n",
       "      <td>255.000000</td>\n",
       "      <td>255.000000</td>\n",
       "      <td>255.000000</td>\n",
       "      <td>255.000000</td>\n",
       "      <td>255.000000</td>\n",
       "    </tr>\n",
       "  </tbody>\n",
       "</table>\n",
       "<p>8 rows × 785 columns</p>\n",
       "</div>"
      ],
      "text/plain": [
       "              label        pixel1        pixel2        pixel3        pixel4  \\\n",
       "count  27455.000000  27455.000000  27455.000000  27455.000000  27455.000000   \n",
       "mean      12.318813    145.419377    148.500273    151.247714    153.546531   \n",
       "std        7.287552     41.358555     39.942152     39.056286     38.595247   \n",
       "min        0.000000      0.000000      0.000000      0.000000      0.000000   \n",
       "25%        6.000000    121.000000    126.000000    130.000000    133.000000   \n",
       "50%       13.000000    150.000000    153.000000    156.000000    158.000000   \n",
       "75%       19.000000    174.000000    176.000000    178.000000    179.000000   \n",
       "max       24.000000    255.000000    255.000000    255.000000    255.000000   \n",
       "\n",
       "             pixel5        pixel6        pixel7        pixel8        pixel9  \\\n",
       "count  27455.000000  27455.000000  27455.000000  27455.000000  27455.000000   \n",
       "mean     156.210891    158.411255    160.472154    162.339683    163.954799   \n",
       "std       37.111165     36.125579     35.016392     33.661998     32.651607   \n",
       "min        0.000000      0.000000      0.000000      0.000000      0.000000   \n",
       "25%      137.000000    140.000000    142.000000    144.000000    146.000000   \n",
       "50%      160.000000    162.000000    164.000000    165.000000    166.000000   \n",
       "75%      181.000000    182.000000    183.000000    184.000000    185.000000   \n",
       "max      255.000000    255.000000    255.000000    255.000000    255.000000   \n",
       "\n",
       "       ...      pixel775      pixel776      pixel777      pixel778  \\\n",
       "count  ...  27455.000000  27455.000000  27455.000000  27455.000000   \n",
       "mean   ...    141.104863    147.495611    153.325806    159.125332   \n",
       "std    ...     63.751194     65.512894     64.427412     63.708507   \n",
       "min    ...      0.000000      0.000000      0.000000      0.000000   \n",
       "25%    ...     92.000000     96.000000    103.000000    112.000000   \n",
       "50%    ...    144.000000    162.000000    172.000000    180.000000   \n",
       "75%    ...    196.000000    202.000000    205.000000    207.000000   \n",
       "max    ...    255.000000    255.000000    255.000000    255.000000   \n",
       "\n",
       "           pixel779      pixel780      pixel781      pixel782      pixel783  \\\n",
       "count  27455.000000  27455.000000  27455.000000  27455.000000  27455.000000   \n",
       "mean     161.969259    162.736696    162.906137    161.966454    161.137898   \n",
       "std       63.738316     63.444008     63.509210     63.298721     63.610415   \n",
       "min        0.000000      0.000000      0.000000      0.000000      0.000000   \n",
       "25%      120.000000    125.000000    128.000000    128.000000    128.000000   \n",
       "50%      183.000000    184.000000    184.000000    182.000000    182.000000   \n",
       "75%      208.000000    207.000000    207.000000    206.000000    204.000000   \n",
       "max      255.000000    255.000000    255.000000    255.000000    255.000000   \n",
       "\n",
       "           pixel784  \n",
       "count  27455.000000  \n",
       "mean     159.824731  \n",
       "std       64.396846  \n",
       "min        0.000000  \n",
       "25%      125.500000  \n",
       "50%      182.000000  \n",
       "75%      204.000000  \n",
       "max      255.000000  \n",
       "\n",
       "[8 rows x 785 columns]"
      ]
     },
     "execution_count": 6,
     "metadata": {},
     "output_type": "execute_result"
    }
   ],
   "source": [
    "df.describe()"
   ]
  },
  {
   "cell_type": "code",
   "execution_count": 77,
   "metadata": {
    "scrolled": true
   },
   "outputs": [
    {
     "name": "stdout",
     "output_type": "stream",
     "text": [
      "False\n",
      "False\n"
     ]
    }
   ],
   "source": [
    "print(df.isnull().values.any())\n",
    "print(df_test.isnull().values.any())"
   ]
  },
  {
   "cell_type": "code",
   "execution_count": 81,
   "metadata": {},
   "outputs": [
    {
     "name": "stdout",
     "output_type": "stream",
     "text": [
      "False\n",
      "False\n"
     ]
    }
   ],
   "source": [
    "print(((df<0).values.any() or (df>255).values.any()))\n",
    "print(((df_test<0).values.any() or (df_test>255).values.any()))"
   ]
  },
  {
   "cell_type": "markdown",
   "metadata": {},
   "source": [
    "According to the data description, the images are 28x28 pixel grayscale image, with each pixel having a value between 0 and 255. Each row in the dataframe corresponds to an image, the image is flattened into a list of 784 elements which corresponds to the columns of the dataframe. \n",
    "The 'label' column shows the letter corresponding to the image. The values range from 0 (for the letter A) up to 24 (for the letter Y). The letter J (label=9) and Z (label=25) have been omitted from the dataset because they involve motion gestures. Below I examine the labels.\n",
    "<br>"
   ]
  },
  {
   "cell_type": "code",
   "execution_count": 10,
   "metadata": {},
   "outputs": [],
   "source": [
    "labels=df['label'].to_numpy()\n",
    "testlabel=df_test['label'].to_numpy()"
   ]
  },
  {
   "cell_type": "code",
   "execution_count": 17,
   "metadata": {},
   "outputs": [
    {
     "data": {
      "text/plain": [
       "Text(0.5, 0, 'Label')"
      ]
     },
     "execution_count": 17,
     "metadata": {},
     "output_type": "execute_result"
    },
    {
     "data": {
      "image/png": "[encoded data removed]",
      "text/plain": [
       "<Figure size 432x288 with 1 Axes>"
      ]
     },
     "metadata": {},
     "output_type": "display_data"
    }
   ],
   "source": [
    "sns.countplot(x=labels,data=df).set(title='Class count')\n",
    "plt.xlabel('Label')"
   ]
  },
  {
   "cell_type": "markdown",
   "metadata": {},
   "source": [
    "The classes look balanced, each class having at least 800 examples. So I do not take further steps in balancing out the data.\n",
    "Next I create the train and test dataframes by dropping the label column. I scale the pixel values from 0-1 as this can help speed up training. Note that label 9 and 25 is missing from the above plot which corresponds to the letters J and Z.\n",
    "<br>"
   ]
  },
  {
   "cell_type": "code",
   "execution_count": 48,
   "metadata": {
    "scrolled": true
   },
   "outputs": [
    {
     "data": {
      "text/html": [
       "<div>\n",
       "<style scoped>\n",
       "    .dataframe tbody tr th:only-of-type {\n",
       "        vertical-align: middle;\n",
       "    }\n",
       "\n",
       "    .dataframe tbody tr th {\n",
       "        vertical-align: top;\n",
       "    }\n",
       "\n",
       "    .dataframe thead th {\n",
       "        text-align: right;\n",
       "    }\n",
       "</style>\n",
       "<table border=\"1\" class=\"dataframe\">\n",
       "  <thead>\n",
       "    <tr style=\"text-align: right;\">\n",
       "      <th></th>\n",
       "      <th>pixel1</th>\n",
       "      <th>pixel2</th>\n",
       "      <th>pixel3</th>\n",
       "      <th>pixel4</th>\n",
       "      <th>pixel5</th>\n",
       "      <th>pixel6</th>\n",
       "      <th>pixel7</th>\n",
       "      <th>pixel8</th>\n",
       "      <th>pixel9</th>\n",
       "      <th>pixel10</th>\n",
       "      <th>...</th>\n",
       "      <th>pixel775</th>\n",
       "      <th>pixel776</th>\n",
       "      <th>pixel777</th>\n",
       "      <th>pixel778</th>\n",
       "      <th>pixel779</th>\n",
       "      <th>pixel780</th>\n",
       "      <th>pixel781</th>\n",
       "      <th>pixel782</th>\n",
       "      <th>pixel783</th>\n",
       "      <th>pixel784</th>\n",
       "    </tr>\n",
       "  </thead>\n",
       "  <tbody>\n",
       "    <tr>\n",
       "      <th>count</th>\n",
       "      <td>27455.000000</td>\n",
       "      <td>27455.000000</td>\n",
       "      <td>27455.000000</td>\n",
       "      <td>27455.000000</td>\n",
       "      <td>27455.000000</td>\n",
       "      <td>27455.000000</td>\n",
       "      <td>27455.000000</td>\n",
       "      <td>27455.000000</td>\n",
       "      <td>27455.000000</td>\n",
       "      <td>27455.000000</td>\n",
       "      <td>...</td>\n",
       "      <td>27455.000000</td>\n",
       "      <td>27455.000000</td>\n",
       "      <td>27455.000000</td>\n",
       "      <td>27455.000000</td>\n",
       "      <td>27455.000000</td>\n",
       "      <td>27455.000000</td>\n",
       "      <td>27455.000000</td>\n",
       "      <td>27455.000000</td>\n",
       "      <td>27455.000000</td>\n",
       "      <td>27455.000000</td>\n",
       "    </tr>\n",
       "    <tr>\n",
       "      <th>mean</th>\n",
       "      <td>0.570272</td>\n",
       "      <td>0.582354</td>\n",
       "      <td>0.593128</td>\n",
       "      <td>0.602143</td>\n",
       "      <td>0.612592</td>\n",
       "      <td>0.621221</td>\n",
       "      <td>0.629303</td>\n",
       "      <td>0.636626</td>\n",
       "      <td>0.642960</td>\n",
       "      <td>0.649152</td>\n",
       "      <td>...</td>\n",
       "      <td>0.553352</td>\n",
       "      <td>0.578414</td>\n",
       "      <td>0.601278</td>\n",
       "      <td>0.624021</td>\n",
       "      <td>0.635174</td>\n",
       "      <td>0.638183</td>\n",
       "      <td>0.638848</td>\n",
       "      <td>0.635163</td>\n",
       "      <td>0.631913</td>\n",
       "      <td>0.626764</td>\n",
       "    </tr>\n",
       "    <tr>\n",
       "      <th>std</th>\n",
       "      <td>0.162190</td>\n",
       "      <td>0.156636</td>\n",
       "      <td>0.153162</td>\n",
       "      <td>0.151354</td>\n",
       "      <td>0.145534</td>\n",
       "      <td>0.141669</td>\n",
       "      <td>0.137319</td>\n",
       "      <td>0.132008</td>\n",
       "      <td>0.128046</td>\n",
       "      <td>0.122664</td>\n",
       "      <td>...</td>\n",
       "      <td>0.250005</td>\n",
       "      <td>0.256913</td>\n",
       "      <td>0.252657</td>\n",
       "      <td>0.249837</td>\n",
       "      <td>0.249954</td>\n",
       "      <td>0.248800</td>\n",
       "      <td>0.249056</td>\n",
       "      <td>0.248230</td>\n",
       "      <td>0.249453</td>\n",
       "      <td>0.252537</td>\n",
       "    </tr>\n",
       "    <tr>\n",
       "      <th>min</th>\n",
       "      <td>0.000000</td>\n",
       "      <td>0.000000</td>\n",
       "      <td>0.000000</td>\n",
       "      <td>0.000000</td>\n",
       "      <td>0.000000</td>\n",
       "      <td>0.000000</td>\n",
       "      <td>0.000000</td>\n",
       "      <td>0.000000</td>\n",
       "      <td>0.000000</td>\n",
       "      <td>0.000000</td>\n",
       "      <td>...</td>\n",
       "      <td>0.000000</td>\n",
       "      <td>0.000000</td>\n",
       "      <td>0.000000</td>\n",
       "      <td>0.000000</td>\n",
       "      <td>0.000000</td>\n",
       "      <td>0.000000</td>\n",
       "      <td>0.000000</td>\n",
       "      <td>0.000000</td>\n",
       "      <td>0.000000</td>\n",
       "      <td>0.000000</td>\n",
       "    </tr>\n",
       "    <tr>\n",
       "      <th>25%</th>\n",
       "      <td>0.474510</td>\n",
       "      <td>0.494118</td>\n",
       "      <td>0.509804</td>\n",
       "      <td>0.521569</td>\n",
       "      <td>0.537255</td>\n",
       "      <td>0.549020</td>\n",
       "      <td>0.556863</td>\n",
       "      <td>0.564706</td>\n",
       "      <td>0.572549</td>\n",
       "      <td>0.580392</td>\n",
       "      <td>...</td>\n",
       "      <td>0.360784</td>\n",
       "      <td>0.376471</td>\n",
       "      <td>0.403922</td>\n",
       "      <td>0.439216</td>\n",
       "      <td>0.470588</td>\n",
       "      <td>0.490196</td>\n",
       "      <td>0.501961</td>\n",
       "      <td>0.501961</td>\n",
       "      <td>0.501961</td>\n",
       "      <td>0.492157</td>\n",
       "    </tr>\n",
       "    <tr>\n",
       "      <th>50%</th>\n",
       "      <td>0.588235</td>\n",
       "      <td>0.600000</td>\n",
       "      <td>0.611765</td>\n",
       "      <td>0.619608</td>\n",
       "      <td>0.627451</td>\n",
       "      <td>0.635294</td>\n",
       "      <td>0.643137</td>\n",
       "      <td>0.647059</td>\n",
       "      <td>0.650980</td>\n",
       "      <td>0.654902</td>\n",
       "      <td>...</td>\n",
       "      <td>0.564706</td>\n",
       "      <td>0.635294</td>\n",
       "      <td>0.674510</td>\n",
       "      <td>0.705882</td>\n",
       "      <td>0.717647</td>\n",
       "      <td>0.721569</td>\n",
       "      <td>0.721569</td>\n",
       "      <td>0.713725</td>\n",
       "      <td>0.713725</td>\n",
       "      <td>0.713725</td>\n",
       "    </tr>\n",
       "    <tr>\n",
       "      <th>75%</th>\n",
       "      <td>0.682353</td>\n",
       "      <td>0.690196</td>\n",
       "      <td>0.698039</td>\n",
       "      <td>0.701961</td>\n",
       "      <td>0.709804</td>\n",
       "      <td>0.713725</td>\n",
       "      <td>0.717647</td>\n",
       "      <td>0.721569</td>\n",
       "      <td>0.725490</td>\n",
       "      <td>0.729412</td>\n",
       "      <td>...</td>\n",
       "      <td>0.768627</td>\n",
       "      <td>0.792157</td>\n",
       "      <td>0.803922</td>\n",
       "      <td>0.811765</td>\n",
       "      <td>0.815686</td>\n",
       "      <td>0.811765</td>\n",
       "      <td>0.811765</td>\n",
       "      <td>0.807843</td>\n",
       "      <td>0.800000</td>\n",
       "      <td>0.800000</td>\n",
       "    </tr>\n",
       "    <tr>\n",
       "      <th>max</th>\n",
       "      <td>1.000000</td>\n",
       "      <td>1.000000</td>\n",
       "      <td>1.000000</td>\n",
       "      <td>1.000000</td>\n",
       "      <td>1.000000</td>\n",
       "      <td>1.000000</td>\n",
       "      <td>1.000000</td>\n",
       "      <td>1.000000</td>\n",
       "      <td>1.000000</td>\n",
       "      <td>1.000000</td>\n",
       "      <td>...</td>\n",
       "      <td>1.000000</td>\n",
       "      <td>1.000000</td>\n",
       "      <td>1.000000</td>\n",
       "      <td>1.000000</td>\n",
       "      <td>1.000000</td>\n",
       "      <td>1.000000</td>\n",
       "      <td>1.000000</td>\n",
       "      <td>1.000000</td>\n",
       "      <td>1.000000</td>\n",
       "      <td>1.000000</td>\n",
       "    </tr>\n",
       "  </tbody>\n",
       "</table>\n",
       "<p>8 rows × 784 columns</p>\n",
       "</div>"
      ],
      "text/plain": [
       "             pixel1        pixel2        pixel3        pixel4        pixel5  \\\n",
       "count  27455.000000  27455.000000  27455.000000  27455.000000  27455.000000   \n",
       "mean       0.570272      0.582354      0.593128      0.602143      0.612592   \n",
       "std        0.162190      0.156636      0.153162      0.151354      0.145534   \n",
       "min        0.000000      0.000000      0.000000      0.000000      0.000000   \n",
       "25%        0.474510      0.494118      0.509804      0.521569      0.537255   \n",
       "50%        0.588235      0.600000      0.611765      0.619608      0.627451   \n",
       "75%        0.682353      0.690196      0.698039      0.701961      0.709804   \n",
       "max        1.000000      1.000000      1.000000      1.000000      1.000000   \n",
       "\n",
       "             pixel6        pixel7        pixel8        pixel9       pixel10  \\\n",
       "count  27455.000000  27455.000000  27455.000000  27455.000000  27455.000000   \n",
       "mean       0.621221      0.629303      0.636626      0.642960      0.649152   \n",
       "std        0.141669      0.137319      0.132008      0.128046      0.122664   \n",
       "min        0.000000      0.000000      0.000000      0.000000      0.000000   \n",
       "25%        0.549020      0.556863      0.564706      0.572549      0.580392   \n",
       "50%        0.635294      0.643137      0.647059      0.650980      0.654902   \n",
       "75%        0.713725      0.717647      0.721569      0.725490      0.729412   \n",
       "max        1.000000      1.000000      1.000000      1.000000      1.000000   \n",
       "\n",
       "       ...      pixel775      pixel776      pixel777      pixel778  \\\n",
       "count  ...  27455.000000  27455.000000  27455.000000  27455.000000   \n",
       "mean   ...      0.553352      0.578414      0.601278      0.624021   \n",
       "std    ...      0.250005      0.256913      0.252657      0.249837   \n",
       "min    ...      0.000000      0.000000      0.000000      0.000000   \n",
       "25%    ...      0.360784      0.376471      0.403922      0.439216   \n",
       "50%    ...      0.564706      0.635294      0.674510      0.705882   \n",
       "75%    ...      0.768627      0.792157      0.803922      0.811765   \n",
       "max    ...      1.000000      1.000000      1.000000      1.000000   \n",
       "\n",
       "           pixel779      pixel780      pixel781      pixel782      pixel783  \\\n",
       "count  27455.000000  27455.000000  27455.000000  27455.000000  27455.000000   \n",
       "mean       0.635174      0.638183      0.638848      0.635163      0.631913   \n",
       "std        0.249954      0.248800      0.249056      0.248230      0.249453   \n",
       "min        0.000000      0.000000      0.000000      0.000000      0.000000   \n",
       "25%        0.470588      0.490196      0.501961      0.501961      0.501961   \n",
       "50%        0.717647      0.721569      0.721569      0.713725      0.713725   \n",
       "75%        0.815686      0.811765      0.811765      0.807843      0.800000   \n",
       "max        1.000000      1.000000      1.000000      1.000000      1.000000   \n",
       "\n",
       "           pixel784  \n",
       "count  27455.000000  \n",
       "mean       0.626764  \n",
       "std        0.252537  \n",
       "min        0.000000  \n",
       "25%        0.492157  \n",
       "50%        0.713725  \n",
       "75%        0.800000  \n",
       "max        1.000000  \n",
       "\n",
       "[8 rows x 784 columns]"
      ]
     },
     "execution_count": 48,
     "metadata": {},
     "output_type": "execute_result"
    }
   ],
   "source": [
    "train=df.drop(['label'],axis=1)\n",
    "test=df_test.drop(['label'],axis=1)\n",
    "train=train/255\n",
    "test=test/255\n",
    "train.describe()"
   ]
  },
  {
   "cell_type": "markdown",
   "metadata": {},
   "source": [
    "The input data of the CNN must have the same dimensions as the original image, below I reshape the dataframe to an array of 28x28x1 dimensions for each image.\n",
    "<br>"
   ]
  },
  {
   "cell_type": "code",
   "execution_count": 49,
   "metadata": {},
   "outputs": [],
   "source": [
    "X_train=train.to_numpy().reshape(-1,28,28,1)\n",
    "X_test=test.to_numpy().reshape(-1,28,28,1)"
   ]
  },
  {
   "cell_type": "code",
   "execution_count": 52,
   "metadata": {},
   "outputs": [
    {
     "name": "stdout",
     "output_type": "stream",
     "text": [
      "(27455, 28, 28, 1)\n",
      "(7172, 28, 28, 1)\n"
     ]
    }
   ],
   "source": [
    "print(X_train.shape)\n",
    "print(X_test.shape)"
   ]
  },
  {
   "cell_type": "markdown",
   "metadata": {},
   "source": [
    "The dimensions look good, the first entry is the number of examples in the train and test sets. The second and third entries correspond to the pixel width adn height of each image, the last entry is the number of channels. Since the image is in grayscale there is only one channel, if the images were in color, this value would be 3 for the red, green and blue channels.\n",
    "\n",
    "I plot one of these images below to make sure the transformation is ok.\n",
    "<br>"
   ]
  },
  {
   "cell_type": "code",
   "execution_count": 53,
   "metadata": {},
   "outputs": [
    {
     "data": {
      "image/png": "[encoded data removed]",
      "text/plain": [
       "<Figure size 432x288 with 1 Axes>"
      ]
     },
     "metadata": {
      "needs_background": "light"
     },
     "output_type": "display_data"
    }
   ],
   "source": [
    "plt.imshow(X_train[3],cmap='gray')\n",
    "plt.show()"
   ]
  },
  {
   "cell_type": "markdown",
   "metadata": {},
   "source": [
    "<br>\n",
    "The feature data looks fine. I now transform the labels into a 1-d vector whose dimension is equal to the number of unique labels (24) and for each example, all the entries except for one will be 0, the non-zero entry corresponds to the label number. For example, if  label=0 the vector will be [1,0,0,....,0]. This format is required to evaluate the CNN model in the end as its output will be a vector of this form.\n",
    "<br>"
   ]
  },
  {
   "cell_type": "code",
   "execution_count": null,
   "metadata": {},
   "outputs": [],
   "source": [
    "label_binarizer = LabelBinarizer()\n",
    "y_train = label_binarizer.fit_transform(labels)\n",
    "y_test = label_binarizer.fit_transform(testlabel)\n"
   ]
  },
  {
   "cell_type": "code",
   "execution_count": 38,
   "metadata": {},
   "outputs": [
    {
     "data": {
      "text/plain": [
       "array([[0, 0, 0, ..., 0, 0, 0],\n",
       "       [0, 0, 0, ..., 0, 0, 0],\n",
       "       [0, 0, 1, ..., 0, 0, 0],\n",
       "       ...,\n",
       "       [0, 0, 0, ..., 0, 0, 0],\n",
       "       [0, 0, 0, ..., 0, 0, 0],\n",
       "       [0, 0, 0, ..., 0, 1, 0]])"
      ]
     },
     "execution_count": 38,
     "metadata": {},
     "output_type": "execute_result"
    }
   ],
   "source": [
    "y_train"
   ]
  },
  {
   "cell_type": "markdown",
   "metadata": {},
   "source": [
    "<br>\n",
    "Now that the data is in an appropriate format, I will build the CNN model. I will give a very brief overview of the different layers used and the reason for using them. \n",
    "The  'Conv2D' layer is the standard layer in CNNs, containing a specified number of matrices or kernels of shape (x,y). The kernel is multiplied across the input which will be output to the next layer after application of the activation function, I use the 'relu' activation function and 'same' for padding as I find it works better than the default 'same' setting. \n",
    "\n",
    "The MaxPool2D layer converts a window of size (x,y) of the input into a single value by taking the maximum value across that window, this is done to reduce the number of parameters to speed up training. \n",
    "\n",
    "The  'Dropout' layer randomly chooses a fraction of the output from the previou layer and sets it to 0. This is done to prevent overfitting. \n",
    "\n",
    "The 'BatchNormalization' layer normalizes the input before feeding into the next layer, this helps to improve the generalizability of the model and it is recommended  to add this especially in deeper layers of a neural network. \n",
    "\n",
    "The 'Flatten' layer converts the   input from a bunch of matrices into a 1-D list which is required before feeding into a 'Dense' layer, which is the standard layer in deep neural networks containing a specified number of neurons that are densely connected with the previous layer and these neurons apply a linear transformation and activation to the input. \n",
    "\n",
    "Except for the final layer of the CNN there is no pre-determined way to setup the model architecture other than combining intuition from previous works and some trial and error. The models can also be fit using a GridSearch to find which set of hyperparameters produces the better model. The last layer will be a densely connected layer with 24 neurons, corresponding to the number of classes. Its activation function will be softmax so that the output will be a vector similar to the 'y_train' and 'y_test' vectors described above.\n",
    "<br>\n",
    "<br>"
   ]
  },
  {
   "cell_type": "code",
   "execution_count": null,
   "metadata": {},
   "outputs": [],
   "source": [
    "model = Sequential()\n",
    "model.add(Conv2D(75 , (3,3) , padding = 'same' , activation = 'relu' , input_shape = (28,28,1)))\n",
    "model.add(MaxPool2D((2,2) , strides = 2 , padding = 'same'))\n",
    "model.add(Conv2D(50 , (3,3), padding = 'same' , activation = 'relu'))\n",
    "model.add(Dropout(0.2))\n",
    "model.add(BatchNormalization())\n",
    "model.add(MaxPool2D((2,2) , strides = 2 , padding = 'same'))\n",
    "model.add(Conv2D(25 , (3,3) , padding = 'same' , activation = 'relu'))\n",
    "model.add(BatchNormalization())\n",
    "model.add(MaxPool2D((2,2) , strides = 2 , padding = 'same'))\n",
    "model.add(Flatten())\n",
    "model.add(Dense(units = 512 , activation = 'relu'))\n",
    "model.add(Dropout(0.2))\n",
    "model.add(Dense(units = 24 , activation = 'softmax'))\n",
    "model.summary()"
   ]
  },
  {
   "cell_type": "code",
   "execution_count": 74,
   "metadata": {},
   "outputs": [
    {
     "name": "stdout",
     "output_type": "stream",
     "text": [
      "Model: \"sequential_7\"\n",
      "_________________________________________________________________\n",
      " Layer (type)                Output Shape              Param #   \n",
      "=================================================================\n",
      " conv2d_21 (Conv2D)          (None, 28, 28, 75)        750       \n",
      "                                                                 \n",
      " max_pooling2d_21 (MaxPoolin  (None, 14, 14, 75)       0         \n",
      " g2D)                                                            \n",
      "                                                                 \n",
      " conv2d_22 (Conv2D)          (None, 14, 14, 50)        33800     \n",
      "                                                                 \n",
      " dropout_12 (Dropout)        (None, 14, 14, 50)        0         \n",
      "                                                                 \n",
      " batch_normalization_17 (Bat  (None, 14, 14, 50)       200       \n",
      " chNormalization)                                                \n",
      "                                                                 \n",
      " max_pooling2d_22 (MaxPoolin  (None, 7, 7, 50)         0         \n",
      " g2D)                                                            \n",
      "                                                                 \n",
      " conv2d_23 (Conv2D)          (None, 7, 7, 25)          11275     \n",
      "                                                                 \n",
      " batch_normalization_18 (Bat  (None, 7, 7, 25)         100       \n",
      " chNormalization)                                                \n",
      "                                                                 \n",
      " max_pooling2d_23 (MaxPoolin  (None, 4, 4, 25)         0         \n",
      " g2D)                                                            \n",
      "                                                                 \n",
      " flatten_7 (Flatten)         (None, 400)               0         \n",
      "                                                                 \n",
      " dense_12 (Dense)            (None, 512)               205312    \n",
      "                                                                 \n",
      " dropout_13 (Dropout)        (None, 512)               0         \n",
      "                                                                 \n",
      " dense_13 (Dense)            (None, 24)                12312     \n",
      "                                                                 \n",
      "=================================================================\n",
      "Total params: 263,749\n",
      "Trainable params: 263,599\n",
      "Non-trainable params: 150\n",
      "_________________________________________________________________\n"
     ]
    }
   ],
   "source": []
  },
  {
   "cell_type": "markdown",
   "metadata": {},
   "source": [
    "The model summary tells us there are 263,599 parameters to train, these are a lot of parameter but the training takes place suprisingly fast!\n",
    "I compile the model choosing the popular 'adam' optimizer and the categorical crossentropy for the loss function, which is commonly used in multiclass classification. The model will be evaluated based on the accuracy of its output, which is fine to use here since the classes are balanced.\n",
    "<br>"
   ]
  },
  {
   "cell_type": "code",
   "execution_count": null,
   "metadata": {},
   "outputs": [],
   "source": [
    "model.compile(optimizer = 'adam' , loss = 'categorical_crossentropy' , metrics = ['accuracy'])"
   ]
  },
  {
   "cell_type": "markdown",
   "metadata": {},
   "source": [
    "I include a model checkpoint to save the best model, in case the final model is not the best fit, this can occur due to overfitting, diverging gradients etc. I will train the model for 10 epochs in batches of 100."
   ]
  },
  {
   "cell_type": "code",
   "execution_count": 78,
   "metadata": {},
   "outputs": [],
   "source": [
    "checkpoint = ModelCheckpoint('sign_clf.hdf5', monitor='val_loss',save_best_only=True)"
   ]
  },
  {
   "cell_type": "code",
   "execution_count": 79,
   "metadata": {
    "scrolled": false
   },
   "outputs": [
    {
     "name": "stdout",
     "output_type": "stream",
     "text": [
      "Epoch 1/10\n",
      "275/275 [==============================] - 54s 195ms/step - loss: 0.5172 - accuracy: 0.8500 - val_loss: 2.0453 - val_accuracy: 0.4470\n",
      "Epoch 2/10\n",
      "275/275 [==============================] - 54s 195ms/step - loss: 0.0206 - accuracy: 0.9958 - val_loss: 0.2054 - val_accuracy: 0.9435\n",
      "Epoch 3/10\n",
      "275/275 [==============================] - 50s 182ms/step - loss: 0.0085 - accuracy: 0.9985 - val_loss: 0.1975 - val_accuracy: 0.9399\n",
      "Epoch 4/10\n",
      "275/275 [==============================] - 48s 173ms/step - loss: 0.0053 - accuracy: 0.9991 - val_loss: 0.1352 - val_accuracy: 0.9532\n",
      "Epoch 5/10\n",
      "275/275 [==============================] - 60s 219ms/step - loss: 0.0128 - accuracy: 0.9963 - val_loss: 0.2211 - val_accuracy: 0.9283\n",
      "Epoch 6/10\n",
      "275/275 [==============================] - 65s 235ms/step - loss: 0.0033 - accuracy: 0.9993 - val_loss: 0.2085 - val_accuracy: 0.9522\n",
      "Epoch 7/10\n",
      "275/275 [==============================] - 47s 172ms/step - loss: 0.0133 - accuracy: 0.9957 - val_loss: 0.6854 - val_accuracy: 0.8341\n",
      "Epoch 8/10\n",
      "275/275 [==============================] - 44s 161ms/step - loss: 0.0175 - accuracy: 0.9946 - val_loss: 0.4797 - val_accuracy: 0.8957\n",
      "Epoch 9/10\n",
      "275/275 [==============================] - 44s 161ms/step - loss: 0.0018 - accuracy: 0.9996 - val_loss: 0.1635 - val_accuracy: 0.9579\n",
      "Epoch 10/10\n",
      "275/275 [==============================] - 47s 170ms/step - loss: 0.0011 - accuracy: 0.9997 - val_loss: 0.8240 - val_accuracy: 0.7999\n"
     ]
    }
   ],
   "source": [
    "fitting = model.fit(x=X_train,y=y_train, batch_size = 100 ,epochs = 10, \n",
    "                    validation_data = (X_test, y_test), callbacks=[checkpoint])"
   ]
  },
  {
   "cell_type": "markdown",
   "metadata": {},
   "source": [
    "<br>\n",
    "From the output we see the final model is not the best fit for the test data, we can visual this with a plot showing the loss function and accuracy over each epoch for the train and test set.\n",
    "<br>"
   ]
  },
  {
   "cell_type": "code",
   "execution_count": 2,
   "metadata": {},
   "outputs": [],
   "source": [
    "def learningcurve(model_fit):\n",
    "    epochs = [i for i in range(len(model_fit.history['accuracy']))]\n",
    "    fig , ax = plt.subplots(1,2)\n",
    "    train_acc = model_fit.history['accuracy']\n",
    "    train_loss = model_fit.history['loss']\n",
    "    val_acc = model_fit.history['val_accuracy']\n",
    "    val_loss = model_fit.history['val_loss']\n",
    "    fig.set_size_inches(16,9)\n",
    "\n",
    "    ax[0].plot(epochs , train_acc , 'bo-' , label = 'Training Accuracy')\n",
    "    ax[0].plot(epochs , val_acc , 'ro-' , label = 'Testing Accuracy')\n",
    "    ax[0].set_title('Training & Test Accuracy')\n",
    "    ax[0].legend()\n",
    "    ax[0].set_xlabel(\"Epochs\")\n",
    "    ax[0].set_ylabel(\"Accuracy\")\n",
    "\n",
    "    ax[1].plot(epochs , train_loss , 'bo-' , label = 'Training Loss')\n",
    "    ax[1].plot(epochs , val_loss , 'ro-' , label = 'Testing Loss')\n",
    "    ax[1].set_title('Training & Test Loss')\n",
    "    ax[1].legend()\n",
    "    ax[1].set_xlabel(\"Epochs\")\n",
    "    ax[1].set_ylabel(\"Loss\")\n",
    "    plt.show()\n"
   ]
  },
  {
   "cell_type": "code",
   "execution_count": 92,
   "metadata": {
    "scrolled": false
   },
   "outputs": [
    {
     "data": {
      "image/png": "[encoded data removed]",
      "text/plain": [
       "<Figure size 1152x648 with 2 Axes>"
      ]
     },
     "metadata": {
      "needs_background": "light"
     },
     "output_type": "display_data"
    }
   ],
   "source": [
    "learningcurve(fitting)\n"
   ]
  },
  {
   "cell_type": "markdown",
   "metadata": {},
   "source": [
    "<br>\n",
    "The above plot shows that the test accuracy decreases up to around epoch 5 and then starts oscillating for proceeding epochs. A common cause of this issue is having a relatively large learning rate at later epochs which can cause the model to overshoot its minimum loss. One way to combat this is to reduce the learning rate when the model accuracy improves using <a href='https://www.tensorflow.org/api_docs/python/tf/keras/callbacks/ReduceLROnPlateau'> ReduceLROnPlateau </a>, this way we gradually take smaller and smaller steps against the gradient so as to avoid overshooting the minimum. I will implement this and train the model to check if it improve performance\n",
    "\n",
    "Luckily the best model was saved using the model checkpoint, we can load this model and continue training, this saves us time since we do not have to start from an untrained model."
   ]
  },
  {
   "cell_type": "code",
   "execution_count": 81,
   "metadata": {},
   "outputs": [],
   "source": [
    "model.load_weights('sign_clf.hdf5')"
   ]
  },
  {
   "cell_type": "code",
   "execution_count": 94,
   "metadata": {},
   "outputs": [
    {
     "name": "stdout",
     "output_type": "stream",
     "text": [
      "225/225 [==============================] - 3s 14ms/step - loss: 0.1352 - accuracy: 0.9532\n"
     ]
    },
    {
     "data": {
      "text/plain": [
       "0.9531511664390564"
      ]
     },
     "execution_count": 94,
     "metadata": {},
     "output_type": "execute_result"
    }
   ],
   "source": [
    "model.evaluate(X_test,y_test)[1]"
   ]
  },
  {
   "cell_type": "code",
   "execution_count": null,
   "metadata": {},
   "outputs": [],
   "source": [
    "learning_rate_reduction = ReduceLROnPlateau(monitor='val_accuracy', patience = 2, \n",
    "                                            verbose=1,factor=0.5, min_lr=0.000001)"
   ]
  },
  {
   "cell_type": "markdown",
   "metadata": {},
   "source": [
    "I will now train the model with this additional callback"
   ]
  },
  {
   "cell_type": "code",
   "execution_count": null,
   "metadata": {},
   "outputs": [],
   "source": [
    "fitting = model.fit(x=X_train,y=y_train, batch_size = 100 ,epochs = 20, \n",
    "                    validation_data = (X_test, y_test), callbacks=[checkpoint,learning_rate_reduction])"
   ]
  },
  {
   "cell_type": "code",
   "execution_count": 58,
   "metadata": {
    "scrolled": true
   },
   "outputs": [
    {
     "name": "stdout",
     "output_type": "stream",
     "text": [
      "Epoch 1/20\n",
      "275/275 [==============================] - 52s 190ms/step - loss: 3.0830e-05 - accuracy: 1.0000 - val_loss: 0.1472 - val_accuracy: 0.9597 - lr: 3.1250e-05\n",
      "Epoch 2/20\n",
      "275/275 [==============================] - 49s 179ms/step - loss: 8.6384e-06 - accuracy: 1.0000 - val_loss: 0.1456 - val_accuracy: 0.9597 - lr: 3.1250e-05\n",
      "Epoch 3/20\n",
      "275/275 [==============================] - ETA: 0s - loss: 9.6197e-06 - accuracy: 1.0000\n",
      "Epoch 3: ReduceLROnPlateau reducing learning rate to 1.5625000742147677e-05.\n",
      "275/275 [==============================] - 49s 178ms/step - loss: 9.6197e-06 - accuracy: 1.0000 - val_loss: 0.1459 - val_accuracy: 0.9594 - lr: 3.1250e-05\n",
      "Epoch 4/20\n",
      "275/275 [==============================] - 48s 176ms/step - loss: 1.6258e-05 - accuracy: 1.0000 - val_loss: 0.1452 - val_accuracy: 0.9589 - lr: 1.5625e-05\n",
      "Epoch 5/20\n",
      "275/275 [==============================] - ETA: 0s - loss: 1.5361e-05 - accuracy: 1.0000\n",
      "Epoch 5: ReduceLROnPlateau reducing learning rate to 7.812500371073838e-06.\n",
      "275/275 [==============================] - 61s 221ms/step - loss: 1.5361e-05 - accuracy: 1.0000 - val_loss: 0.1489 - val_accuracy: 0.9582 - lr: 1.5625e-05\n",
      "Epoch 6/20\n",
      "275/275 [==============================] - 73s 265ms/step - loss: 1.6462e-05 - accuracy: 1.0000 - val_loss: 0.1490 - val_accuracy: 0.9578 - lr: 7.8125e-06\n",
      "Epoch 7/20\n",
      "275/275 [==============================] - ETA: 0s - loss: 1.0240e-05 - accuracy: 1.0000\n",
      "Epoch 7: ReduceLROnPlateau reducing learning rate to 3.906250185536919e-06.\n",
      "275/275 [==============================] - 59s 216ms/step - loss: 1.0240e-05 - accuracy: 1.0000 - val_loss: 0.1502 - val_accuracy: 0.9578 - lr: 7.8125e-06\n",
      "Epoch 8/20\n",
      "275/275 [==============================] - 67s 245ms/step - loss: 8.7894e-06 - accuracy: 1.0000 - val_loss: 0.1507 - val_accuracy: 0.9580 - lr: 3.9063e-06\n",
      "Epoch 9/20\n",
      "275/275 [==============================] - ETA: 0s - loss: 1.0179e-05 - accuracy: 1.0000\n",
      "Epoch 9: ReduceLROnPlateau reducing learning rate to 1.9531250927684596e-06.\n",
      "275/275 [==============================] - 57s 207ms/step - loss: 1.0179e-05 - accuracy: 1.0000 - val_loss: 0.1504 - val_accuracy: 0.9583 - lr: 3.9063e-06\n",
      "Epoch 10/20\n",
      "275/275 [==============================] - 50s 183ms/step - loss: 1.2375e-05 - accuracy: 1.0000 - val_loss: 0.1504 - val_accuracy: 0.9580 - lr: 1.9531e-06\n",
      "Epoch 11/20\n",
      "275/275 [==============================] - ETA: 0s - loss: 1.0139e-05 - accuracy: 1.0000\n",
      "Epoch 11: ReduceLROnPlateau reducing learning rate to 1e-06.\n",
      "275/275 [==============================] - 46s 166ms/step - loss: 1.0139e-05 - accuracy: 1.0000 - val_loss: 0.1502 - val_accuracy: 0.9584 - lr: 1.9531e-06\n",
      "Epoch 12/20\n",
      "275/275 [==============================] - 46s 168ms/step - loss: 8.4579e-06 - accuracy: 1.0000 - val_loss: 0.1506 - val_accuracy: 0.9580 - lr: 1.0000e-06\n",
      "Epoch 13/20\n",
      "275/275 [==============================] - 51s 185ms/step - loss: 2.1810e-05 - accuracy: 1.0000 - val_loss: 0.1507 - val_accuracy: 0.9584 - lr: 1.0000e-06\n",
      "Epoch 14/20\n",
      "275/275 [==============================] - 51s 185ms/step - loss: 1.3494e-05 - accuracy: 1.0000 - val_loss: 0.1498 - val_accuracy: 0.9586 - lr: 1.0000e-06\n",
      "Epoch 15/20\n",
      "275/275 [==============================] - 48s 174ms/step - loss: 8.9264e-06 - accuracy: 1.0000 - val_loss: 0.1500 - val_accuracy: 0.9586 - lr: 1.0000e-06\n",
      "Epoch 16/20\n",
      "275/275 [==============================] - 45s 165ms/step - loss: 2.9113e-05 - accuracy: 1.0000 - val_loss: 0.1505 - val_accuracy: 0.9582 - lr: 1.0000e-06\n",
      "Epoch 17/20\n",
      "275/275 [==============================] - 46s 168ms/step - loss: 2.6229e-05 - accuracy: 1.0000 - val_loss: 0.1504 - val_accuracy: 0.9587 - lr: 1.0000e-06\n",
      "Epoch 18/20\n",
      "275/275 [==============================] - 48s 173ms/step - loss: 1.2620e-05 - accuracy: 1.0000 - val_loss: 0.1507 - val_accuracy: 0.9580 - lr: 1.0000e-06\n",
      "Epoch 19/20\n",
      "275/275 [==============================] - 47s 170ms/step - loss: 1.3751e-05 - accuracy: 1.0000 - val_loss: 0.1508 - val_accuracy: 0.9583 - lr: 1.0000e-06\n",
      "Epoch 20/20\n",
      "275/275 [==============================] - 46s 166ms/step - loss: 1.1890e-05 - accuracy: 1.0000 - val_loss: 0.1511 - val_accuracy: 0.9583 - lr: 1.0000e-06\n"
     ]
    }
   ],
   "source": [
    "fitting = model.fit(x=X_train,y=y_train, batch_size = 100 ,epochs = 20, \n",
    "                    validation_data = (X_test, y_test), callbacks=[checkpoint,learning_rate_reduction])"
   ]
  },
  {
   "cell_type": "code",
   "execution_count": 67,
   "metadata": {
    "scrolled": true
   },
   "outputs": [
    {
     "data": {
      "image/png": "[encoded data removed]",
      "text/plain": [
       "<Figure size 1152x648 with 2 Axes>"
      ]
     },
     "metadata": {
      "needs_background": "light"
     },
     "output_type": "display_data"
    }
   ],
   "source": [
    "learningcurve(fitting)"
   ]
  },
  {
   "cell_type": "code",
   "execution_count": 60,
   "metadata": {},
   "outputs": [
    {
     "name": "stdout",
     "output_type": "stream",
     "text": [
      "225/225 [==============================] - 2s 10ms/step - loss: 0.1452 - accuracy: 0.9589\n"
     ]
    },
    {
     "data": {
      "text/plain": [
       "0.9588678479194641"
      ]
     },
     "execution_count": 60,
     "metadata": {},
     "output_type": "execute_result"
    }
   ],
   "source": [
    "model.load_weights('sign_clf.hdf5')\n",
    "model.evaluate(X_test,y_test)[1]"
   ]
  },
  {
   "cell_type": "markdown",
   "metadata": {},
   "source": [
    "Reducing the learning rate has curbed the oscillation in the testing loss and accuracy! I get a 95.9% accuracy, about 0.5% increase from before. \n",
    "Let's delve a bit deeper and see how the model performs for each class. To do this I first convert the output vector of the model to the integer label value, like how it was in the original dataframe."
   ]
  },
  {
   "cell_type": "code",
   "execution_count": 97,
   "metadata": {},
   "outputs": [],
   "source": [
    "predict_x=model.predict(X_test) \n",
    "classes_x=np.argmax(predict_x,axis=1)\n"
   ]
  },
  {
   "cell_type": "code",
   "execution_count": 101,
   "metadata": {},
   "outputs": [
    {
     "data": {
      "text/plain": [
       "array([ 6,  5,  9,  0,  3, 20,  9, 13,  3,  7,  8,  8, 20, 11,  7,  4, 21,\n",
       "        0,  7,  7])"
      ]
     },
     "execution_count": 101,
     "metadata": {},
     "output_type": "execute_result"
    }
   ],
   "source": [
    "classes_x[0:20]"
   ]
  },
  {
   "cell_type": "code",
   "execution_count": 105,
   "metadata": {},
   "outputs": [],
   "source": [
    "classes_x=np.where(classes_x>=9,classes_x+1,classes_x)"
   ]
  },
  {
   "cell_type": "code",
   "execution_count": 107,
   "metadata": {},
   "outputs": [
    {
     "data": {
      "text/plain": [
       "array([ 6,  5, 10,  0,  3, 21, 10, 14,  3,  7,  8,  8, 21, 12,  7,  4, 22,\n",
       "        0,  7,  7])"
      ]
     },
     "execution_count": 107,
     "metadata": {},
     "output_type": "execute_result"
    }
   ],
   "source": [
    "classes_x[0:20]"
   ]
  },
  {
   "cell_type": "markdown",
   "metadata": {},
   "source": [
    "<br>\n",
    "I added a one for each value greater than or equal to 9 to account for the fact that the letter J (label 9) is omitted from the dataset.\n",
    "The classification report below shows the performance across each class.\n",
    "<br>"
   ]
  },
  {
   "cell_type": "code",
   "execution_count": 66,
   "metadata": {
    "scrolled": false
   },
   "outputs": [
    {
     "name": "stdout",
     "output_type": "stream",
     "text": [
      "              precision    recall  f1-score   support\n",
      "\n",
      "           0       0.97      1.00      0.98       331\n",
      "           1       1.00      1.00      1.00       432\n",
      "           2       1.00      1.00      1.00       310\n",
      "           3       1.00      1.00      1.00       245\n",
      "           4       1.00      1.00      1.00       498\n",
      "           5       0.95      1.00      0.97       247\n",
      "           6       0.88      0.89      0.89       348\n",
      "           7       0.95      0.91      0.93       436\n",
      "           8       0.96      0.95      0.96       288\n",
      "          10       0.98      1.00      0.99       331\n",
      "          11       0.94      1.00      0.97       209\n",
      "          12       0.97      0.98      0.97       394\n",
      "          13       0.96      0.84      0.90       291\n",
      "          14       1.00      1.00      1.00       246\n",
      "          15       0.95      1.00      0.97       347\n",
      "          16       1.00      1.00      1.00       164\n",
      "          17       0.80      0.85      0.83       144\n",
      "          18       1.00      1.00      1.00       246\n",
      "          19       0.88      0.77      0.82       248\n",
      "          20       0.87      0.91      0.89       266\n",
      "          21       0.94      0.96      0.95       346\n",
      "          22       1.00      1.00      1.00       206\n",
      "          23       0.92      0.98      0.95       267\n",
      "          24       1.00      0.92      0.96       332\n",
      "\n",
      "    accuracy                           0.96      7172\n",
      "   macro avg       0.96      0.96      0.96      7172\n",
      "weighted avg       0.96      0.96      0.96      7172\n",
      "\n"
     ]
    }
   ],
   "source": [
    "print(classification_report(testlabel, classes_x))"
   ]
  },
  {
   "cell_type": "markdown",
   "metadata": {},
   "source": [
    "We see that a few classes e.g., 17 and 19, corresponding to letters R and T seem to performs the worst."
   ]
  },
  {
   "cell_type": "markdown",
   "metadata": {},
   "source": [
    "### Future improvements"
   ]
  },
  {
   "cell_type": "markdown",
   "metadata": {},
   "source": [
    "As we saw above, few classes perform poorer than the rest, one way to improve the model is by increasing the number of samples for these class, we can do this without the need for obtaining new images by augmenting existing images, in fact we can do this for the whole training set to provide more examples for the model to train on. \n"
   ]
  }
 ],
 "metadata": {
  "kernelspec": {
   "display_name": "Python 3 (ipykernel)",
   "language": "python",
   "name": "python3"
  },
  "language_info": {
   "codemirror_mode": {
    "name": "ipython",
    "version": 3
   },
   "file_extension": ".py",
   "mimetype": "text/x-python",
   "name": "python",
   "nbconvert_exporter": "python",
   "pygments_lexer": "ipython3",
   "version": "3.8.13"
  }
 },
 "nbformat": 4,
 "nbformat_minor": 2
}
